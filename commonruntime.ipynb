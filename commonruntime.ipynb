{
 "cells": [
  {
   "cell_type": "code",
   "execution_count": 1,
   "id": "65130f6e",
   "metadata": {},
   "outputs": [],
   "source": [
    "from libs.pubsub import get_ps_2, get_ps_1"
   ]
  },
  {
   "cell_type": "code",
   "execution_count": 5,
   "id": "c322c314",
   "metadata": {},
   "outputs": [],
   "source": [
    "r2 = get_ps_2()\n",
    "r1 = get_ps_1()"
   ]
  },
  {
   "cell_type": "code",
   "execution_count": 14,
   "id": "5bd633d6",
   "metadata": {},
   "outputs": [
    {
     "data": {
      "text/plain": [
       "{'AXISBANK': {'params': {'variety': 'regular',\n",
       "   'exchange': 'NSE',\n",
       "   'tradingsymbol': 'AXISBANK',\n",
       "   'transaction_type': 'BUY',\n",
       "   'quantity': 1,\n",
       "   'product': 'MIS',\n",
       "   'order_type': 'MARKET',\n",
       "   'average_price': 743.75},\n",
       "  'updates': {'status': 'COMPLETE',\n",
       "   'stoploss': 730,\n",
       "   'order_id': '210603201753814',\n",
       "   'counter_order_id': '210603201754050'}}}"
      ]
     },
     "execution_count": 14,
     "metadata": {},
     "output_type": "execute_result"
    }
   ],
   "source": [
    "r1.hgetall('positions')"
   ]
  }
 ],
 "metadata": {
  "kernelspec": {
   "display_name": "Python 3",
   "language": "python",
   "name": "python3"
  },
  "language_info": {
   "codemirror_mode": {
    "name": "ipython",
    "version": 3
   },
   "file_extension": ".py",
   "mimetype": "text/x-python",
   "name": "python",
   "nbconvert_exporter": "python",
   "pygments_lexer": "ipython3",
   "version": "3.6.13"
  }
 },
 "nbformat": 4,
 "nbformat_minor": 5
}
